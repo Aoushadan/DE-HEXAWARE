{
 "cells": [
  {
   "cell_type": "code",
   "execution_count": 0,
   "metadata": {
    "application/vnd.databricks.v1+cell": {
     "cellMetadata": {
      "byteLimit": 2048000,
      "rowLimit": 10000
     },
     "inputWidgets": {},
     "nuid": "1cc4f626-2494-44d0-a1d7-6b9dc16e11ac",
     "showTitle": false,
     "tableResultSettingsMap": {},
     "title": ""
    }
   },
   "outputs": [
    {
     "output_type": "stream",
     "name": "stdout",
     "output_type": "stream",
     "text": [
      "['name', 'score']\n[['job', '98'], ['aoush', '87']]\n"
     ]
    }
   ],
   "source": [
    "import csv\n",
    "rows = []\n",
    "with open(\"/Volumes/hexadatabrickswp_v2/default/jobdata/Salary_Data.csv\", 'r') as file:\n",
    "    csvreader = csv.reader(file)\n",
    "    header = next(csvreader)\n",
    "    for row in csvreader:\n",
    "        rows.append(row)\n",
    "print(header)\n",
    "print(rows)"
   ]
  },
  {
   "cell_type": "code",
   "execution_count": 0,
   "metadata": {
    "application/vnd.databricks.v1+cell": {
     "cellMetadata": {
      "byteLimit": 2048000,
      "rowLimit": 10000
     },
     "inputWidgets": {},
     "nuid": "d3ecee9f-0a81-409a-9d4e-ea6344788315",
     "showTitle": false,
     "tableResultSettingsMap": {},
     "title": ""
    }
   },
   "outputs": [
    {
     "output_type": "stream",
     "name": "stdout",
     "output_type": "stream",
     "text": [
      "['name,score\\n']\n['job,98\\n', 'aoush,87\\n']\n"
     ]
    }
   ],
   "source": [
    "with open('/Volumes/hexadatabrickswp_v2/default/jobdata/Salary_Data.csv') as file:\n",
    "    content = file.readlines()\n",
    "header = content[:1]\n",
    "rows = content[1:]\n",
    "print(header)\n",
    "print(rows)"
   ]
  },
  {
   "cell_type": "code",
   "execution_count": 0,
   "metadata": {
    "application/vnd.databricks.v1+cell": {
     "cellMetadata": {
      "byteLimit": 2048000,
      "rowLimit": 10000
     },
     "inputWidgets": {},
     "nuid": "64740af9-721b-4b00-a76b-eda9c96b04d8",
     "showTitle": false,
     "tableResultSettingsMap": {},
     "title": ""
    }
   },
   "outputs": [
    {
     "output_type": "execute_result",
     "data": {
      "text/html": [
       "<div>\n",
       "<style scoped>\n",
       "    .dataframe tbody tr th:only-of-type {\n",
       "        vertical-align: middle;\n",
       "    }\n",
       "\n",
       "    .dataframe tbody tr th {\n",
       "        vertical-align: top;\n",
       "    }\n",
       "\n",
       "    .dataframe thead th {\n",
       "        text-align: right;\n",
       "    }\n",
       "</style>\n",
       "<table border=\"1\" class=\"dataframe\">\n",
       "  <thead>\n",
       "    <tr style=\"text-align: right;\">\n",
       "      <th></th>\n",
       "      <th>name</th>\n",
       "      <th>score</th>\n",
       "    </tr>\n",
       "  </thead>\n",
       "  <tbody>\n",
       "    <tr>\n",
       "      <th>0</th>\n",
       "      <td>job</td>\n",
       "      <td>98</td>\n",
       "    </tr>\n",
       "    <tr>\n",
       "      <th>1</th>\n",
       "      <td>aoush</td>\n",
       "      <td>87</td>\n",
       "    </tr>\n",
       "  </tbody>\n",
       "</table>\n",
       "</div>"
      ],
      "text/plain": [
       "    name  score\n",
       "0    job     98\n",
       "1  aoush     87"
      ]
     },
     "execution_count": 10,
     "metadata": {},
     "output_type": "execute_result"
    }
   ],
   "source": [
    "import pandas as pd\n",
    "data= pd.read_csv(\"/Volumes/hexadatabrickswp_v2/default/jobdata/Salary_Data.csv\")\n",
    "data\n"
   ]
  },
  {
   "cell_type": "code",
   "execution_count": 0,
   "metadata": {
    "application/vnd.databricks.v1+cell": {
     "cellMetadata": {
      "byteLimit": 2048000,
      "rowLimit": 10000
     },
     "inputWidgets": {},
     "nuid": "53e3e1ed-5689-48d9-a412-0c5f4d4a3aa3",
     "showTitle": false,
     "tableResultSettingsMap": {},
     "title": ""
    }
   },
   "outputs": [
    {
     "output_type": "execute_result",
     "data": {
      "text/plain": [
       "Index(['name', 'score'], dtype='object')"
      ]
     },
     "execution_count": 8,
     "metadata": {},
     "output_type": "execute_result"
    }
   ],
   "source": [
    "data.columns"
   ]
  },
  {
   "cell_type": "code",
   "execution_count": 0,
   "metadata": {
    "application/vnd.databricks.v1+cell": {
     "cellMetadata": {
      "byteLimit": 2048000,
      "rowLimit": 10000
     },
     "inputWidgets": {},
     "nuid": "c9e770e3-0707-495d-87c7-1a8e22346524",
     "showTitle": false,
     "tableResultSettingsMap": {},
     "title": ""
    }
   },
   "outputs": [
    {
     "output_type": "execute_result",
     "data": {
      "text/plain": [
       "0    98\n",
       "1    87\n",
       "Name: score, dtype: int64"
      ]
     },
     "execution_count": 11,
     "metadata": {},
     "output_type": "execute_result"
    }
   ],
   "source": [
    "data.score"
   ]
  },
  {
   "cell_type": "code",
   "execution_count": 0,
   "metadata": {
    "application/vnd.databricks.v1+cell": {
     "cellMetadata": {
      "byteLimit": 2048000,
      "rowLimit": 10000
     },
     "inputWidgets": {},
     "nuid": "6d6c4743-5cfe-4354-a0c9-1c027ff1b3fc",
     "showTitle": false,
     "tableResultSettingsMap": {},
     "title": ""
    }
   },
   "outputs": [],
   "source": [
    "header = ['Name', 'M1 Score', 'M2 Score']\n",
    "data = [['Alex', 62, 80], ['Brad', 45, 56], ['Joey', 85, 98]]\n",
    "import csv\n",
    "filename = 'Students_Data.csv'\n",
    "with open(filename, 'w', newline=\"\") as file:\n",
    "    csvwriter = csv.writer(file) # 2. create a csvwriter object\n",
    "    csvwriter.writerow(header) # 4. write the header\n",
    "    csvwriter.writerows(data) # 5. write the rest of the data"
   ]
  },
  {
   "cell_type": "code",
   "execution_count": 0,
   "metadata": {
    "application/vnd.databricks.v1+cell": {
     "cellMetadata": {
      "byteLimit": 2048000,
      "rowLimit": 10000
     },
     "inputWidgets": {},
     "nuid": "3d372c96-0dbb-4bd2-a34c-d12197958104",
     "showTitle": false,
     "tableResultSettingsMap": {},
     "title": ""
    }
   },
   "outputs": [],
   "source": [
    "header = ['Name', 'M1 Score', 'M2 Score']\n",
    "data = [['Alex', 62, 80], ['Brad', 45, 56], ['Joey', 85, 98]]\n",
    "filename = 'Student_scores.csv'\n",
    "with open(filename, 'w') as file:\n",
    "    for header in header:\n",
    "        file.write(str(header)+', ')\n",
    "    file.write('n')\n",
    "    for row in data:\n",
    "        for x in row:\n",
    "            file.write(str(x)+', ')\n",
    "        file.write('n')"
   ]
  },
  {
   "cell_type": "code",
   "execution_count": 0,
   "metadata": {
    "application/vnd.databricks.v1+cell": {
     "cellMetadata": {
      "byteLimit": 2048000,
      "rowLimit": 10000
     },
     "inputWidgets": {},
     "nuid": "7c8ee091-7233-47f8-95c3-ecfd34d16b2a",
     "showTitle": false,
     "tableResultSettingsMap": {},
     "title": ""
    }
   },
   "outputs": [],
   "source": [
    "import pandas as pd\n",
    "header = ['Name', 'M1 Score', 'M2 Score']\n",
    "data = [['Alex', 62, 80], ['Brad', 45, 56], ['Joey', 85, 98]]\n",
    "data = pd.DataFrame(data, columns=header)\n",
    "data.to_csv('Stu_data.csv', index=False)"
   ]
  },
  {
   "cell_type": "code",
   "execution_count": 0,
   "metadata": {
    "application/vnd.databricks.v1+cell": {
     "cellMetadata": {
      "byteLimit": 2048000,
      "rowLimit": 10000
     },
     "inputWidgets": {},
     "nuid": "94305e69-bb0d-4eff-a3bf-6b4ab4d95805",
     "showTitle": false,
     "tableResultSettingsMap": {},
     "title": ""
    }
   },
   "outputs": [],
   "source": [
    "import csv \n",
    "with open('Students_Data.csv', 'w', newline='') as csvfile:\n",
    "    data = [{'Name': 'Alex', 'M1 Score': 62, 'M2 Score': 80},\n",
    "        {'Name': 'Brad', 'M1 Score': 45, 'M2 Score': 56},\n",
    "        {'Name': 'Joey', 'M1 Score': 85, 'M2 Score': 99}]\n",
    "    fieldnames = ['Name', 'M1 Score', 'M2 Score'] \n",
    "    writer = csv.DictWriter(csvfile, fieldnames=fieldnames)\n",
    "    writer.writeheader()\n",
    "    writer.writerows(data)"
   ]
  },
  {
   "cell_type": "code",
   "execution_count": 0,
   "metadata": {
    "application/vnd.databricks.v1+cell": {
     "cellMetadata": {
      "byteLimit": 2048000,
      "rowLimit": 10000
     },
     "inputWidgets": {},
     "nuid": "3b62b529-8b8b-4e58-a39a-fb785f1076a9",
     "showTitle": false,
     "tableResultSettingsMap": {},
     "title": ""
    }
   },
   "outputs": [
    {
     "output_type": "stream",
     "name": "stdout",
     "output_type": "stream",
     "text": [
      "[['Name', 'M1 Score', 'M2 Score'], ['Alex', '62', '80'], ['Brad', '45', '56'], ['Joey', '85', '99']]\n"
     ]
    }
   ],
   "source": [
    "import csv \n",
    "  \n",
    "with open('Students_Data.csv', 'r') as read_obj:  \n",
    "    csv_reader = csv.reader(read_obj) \n",
    "  \n",
    "    # convert string to list \n",
    "    list_of_csv = list(csv_reader) \n",
    "  \n",
    "    print(list_of_csv) "
   ]
  },
  {
   "cell_type": "code",
   "execution_count": 0,
   "metadata": {
    "application/vnd.databricks.v1+cell": {
     "cellMetadata": {
      "byteLimit": 2048000,
      "rowLimit": 10000
     },
     "inputWidgets": {},
     "nuid": "058c0fc0-c5d4-490c-8c4f-becfc90d82c3",
     "showTitle": false,
     "tableResultSettingsMap": {},
     "title": ""
    }
   },
   "outputs": [
    {
     "output_type": "stream",
     "name": "stdout",
     "output_type": "stream",
     "text": [
      "['Name', 'M1 Score', 'M2 Score']\nName\nName M1 Score M2 Score\n\n\n['Alex', '62', '80']\nAlex\nAlex 62 80\n\n\n['Brad', '45', '56']\nBrad\nBrad 45 56\n\n\n['Joey', '85', '99']\nJoey\nJoey 85 99\n\n\n"
     ]
    }
   ],
   "source": [
    "import csv \n",
    "  \n",
    "with open('Students_Data.csv') as csvfile: \n",
    "    \n",
    "    # Return a reader object which will \n",
    "    # iterate over lines in the given csvfile. \n",
    "    readCSV = csv.reader(csvfile, delimiter=',') \n",
    "    for row in readCSV: \n",
    "        print(row) \n",
    "        print(row[0]) \n",
    "        print(row[0], row[1], row[2],) \n",
    "        print(\"\\n\")"
   ]
  },
  {
   "cell_type": "code",
   "execution_count": 0,
   "metadata": {
    "application/vnd.databricks.v1+cell": {
     "cellMetadata": {
      "byteLimit": 2048000,
      "rowLimit": 10000
     },
     "inputWidgets": {},
     "nuid": "22f6099d-0d00-48b1-95cd-f7365c050e81",
     "showTitle": false,
     "tableResultSettingsMap": {},
     "title": ""
    }
   },
   "outputs": [
    {
     "output_type": "stream",
     "name": "stdout",
     "output_type": "stream",
     "text": [
      "        series  episodes        actors\n0      Friends       200   David Crane\n1  Money Heist        50        Alvaro\n2       Marvel        45      Stan Lee\n"
     ]
    }
   ],
   "source": [
    "import pandas as pd  \n",
    "dict = { \n",
    "    'series': ['Friends', 'Money Heist', 'Marvel'], \n",
    "    'episodes': [200, 50, 45], \n",
    "    'actors': [' David Crane', 'Alvaro', 'Stan Lee'] \n",
    "} \n",
    "df = pd.DataFrame(dict) \n",
    "print(df)"
   ]
  }
 ],
 "metadata": {
  "application/vnd.databricks.v1+notebook": {
   "computePreferences": null,
   "dashboards": [],
   "environmentMetadata": {
    "base_environment": "",
    "environment_version": "2"
   },
   "inputWidgetPreferences": null,
   "language": "python",
   "notebookMetadata": {
    "pythonIndentUnit": 4
   },
   "notebookName": "File Operations",
   "widgets": {}
  },
  "language_info": {
   "name": "python"
  }
 },
 "nbformat": 4,
 "nbformat_minor": 0
}