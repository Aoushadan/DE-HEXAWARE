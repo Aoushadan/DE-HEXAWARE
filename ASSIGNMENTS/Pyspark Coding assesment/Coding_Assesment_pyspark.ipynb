{
  "nbformat": 4,
  "nbformat_minor": 0,
  "metadata": {
    "colab": {
      "provenance": []
    },
    "kernelspec": {
      "name": "python3",
      "display_name": "Python 3"
    },
    "language_info": {
      "name": "python"
    }
  },
  "cells": [
    {
      "cell_type": "code",
      "execution_count": 3,
      "metadata": {
        "colab": {
          "base_uri": "https://localhost:8080/"
        },
        "id": "6zDcYD35mTsx",
        "outputId": "65826882-6575-4116-c485-87e52f6268c4"
      },
      "outputs": [
        {
          "output_type": "stream",
          "name": "stdout",
          "text": [
            "+-----+---+-----+\n",
            "| name|age| dept|\n",
            "+-----+---+-----+\n",
            "|Alice| 30|Sales|\n",
            "|  Bob| 25|Sales|\n",
            "|Carol| 35|   HR|\n",
            "|David| 29|   HR|\n",
            "|  Eve| 40|   IT|\n",
            "+-----+---+-----+\n",
            "\n"
          ]
        }
      ],
      "source": [
        "from pyspark.sql import SparkSession, functions as F, Window\n",
        "spark = SparkSession.builder.appName(\"Demo\").getOrCreate()\n",
        "\n",
        "df = spark.createDataFrame([\n",
        "  (\"Alice\", 30, \"Sales\"),\n",
        "  (\"Bob\", 25, \"Sales\"),\n",
        "  (\"Carol\", 35, \"HR\"),\n",
        "  (\"David\", 29, \"HR\"),\n",
        "  (\"Eve\", 40, \"IT\")\n",
        "], [\"name\", \"age\", \"dept\"])\n",
        "df.show()"
      ]
    },
    {
      "cell_type": "code",
      "source": [
        "filtered = df.filter(F.col(\"age\") > 30)\n",
        "filtered.show()"
      ],
      "metadata": {
        "colab": {
          "base_uri": "https://localhost:8080/"
        },
        "id": "zaIjJuFMmo33",
        "outputId": "b54d153a-1cca-49bd-db33-4ecb7e18c3f1"
      },
      "execution_count": 2,
      "outputs": [
        {
          "output_type": "stream",
          "name": "stdout",
          "text": [
            "+-----+---+----+\n",
            "| name|age|dept|\n",
            "+-----+---+----+\n",
            "|Carol| 35|  HR|\n",
            "|  Eve| 40|  IT|\n",
            "+-----+---+----+\n",
            "\n"
          ]
        }
      ]
    },
    {
      "cell_type": "code",
      "source": [
        "df2 = df.withColumn(\"age_plus_5\", F.col(\"age\") + 5)\n",
        "df2.select(\"name\", \"age_plus_5\").show()\n"
      ],
      "metadata": {
        "colab": {
          "base_uri": "https://localhost:8080/"
        },
        "id": "hoPNhsg1m2fb",
        "outputId": "d0a8ecf0-e58c-480e-c150-02feb4639136"
      },
      "execution_count": 4,
      "outputs": [
        {
          "output_type": "stream",
          "name": "stdout",
          "text": [
            "+-----+----------+\n",
            "| name|age_plus_5|\n",
            "+-----+----------+\n",
            "|Alice|        35|\n",
            "|  Bob|        30|\n",
            "|Carol|        40|\n",
            "|David|        34|\n",
            "|  Eve|        45|\n",
            "+-----+----------+\n",
            "\n"
          ]
        }
      ]
    },
    {
      "cell_type": "code",
      "source": [
        "other = spark.createDataFrame([\n",
        "  (\"Sales\", 1000),\n",
        "  (\"HR\",    800),\n",
        "  (\"IT\",   1200)\n",
        "], [\"dept\", \"budget\"])\n",
        "\n",
        "joined = df.join(other, on=\"dept\", how=\"inner\")\n",
        "joined.show()\n"
      ],
      "metadata": {
        "colab": {
          "base_uri": "https://localhost:8080/"
        },
        "id": "mH-z4JlVnDP1",
        "outputId": "b6efafcb-e4a9-4a23-b2e5-df1fa16bff25"
      },
      "execution_count": 5,
      "outputs": [
        {
          "output_type": "stream",
          "name": "stdout",
          "text": [
            "+-----+-----+---+------+\n",
            "| dept| name|age|budget|\n",
            "+-----+-----+---+------+\n",
            "|   HR|Carol| 35|   800|\n",
            "|   HR|David| 29|   800|\n",
            "|   IT|  Eve| 40|  1200|\n",
            "|Sales|Alice| 30|  1000|\n",
            "|Sales|  Bob| 25|  1000|\n",
            "+-----+-----+---+------+\n",
            "\n"
          ]
        }
      ]
    },
    {
      "cell_type": "code",
      "source": [
        "df.groupBy(\"dept\") \\\n",
        "  .agg(\n",
        "    F.count(\"*\").alias(\"cnt\"),\n",
        "    F.avg(\"age\").alias(\"avg_age\"),\n",
        "    F.sum(\"age\").alias(\"sum_age\")\n",
        "  ).show()\n"
      ],
      "metadata": {
        "colab": {
          "base_uri": "https://localhost:8080/"
        },
        "id": "htTVPTzyoSiU",
        "outputId": "22b4eab4-72a4-41c6-8e58-18d53304d613"
      },
      "execution_count": 6,
      "outputs": [
        {
          "output_type": "stream",
          "name": "stdout",
          "text": [
            "+-----+---+-------+-------+\n",
            "| dept|cnt|avg_age|sum_age|\n",
            "+-----+---+-------+-------+\n",
            "|Sales|  2|   27.5|     55|\n",
            "|   HR|  2|   32.0|     64|\n",
            "|   IT|  1|   40.0|     40|\n",
            "+-----+---+-------+-------+\n",
            "\n"
          ]
        }
      ]
    },
    {
      "cell_type": "code",
      "source": [
        "df.groupBy(\"dept\") \\\n",
        "  .agg(F.sum(\"age\").alias(\"total_age\")) \\\n",
        "  .filter(F.col(\"total_age\") >= 60) \\\n",
        "  .show()\n"
      ],
      "metadata": {
        "colab": {
          "base_uri": "https://localhost:8080/"
        },
        "id": "SY846XsdoZcN",
        "outputId": "8091fcdd-1c0d-496d-a6e0-8275291eaf29"
      },
      "execution_count": 7,
      "outputs": [
        {
          "output_type": "stream",
          "name": "stdout",
          "text": [
            "+----+---------+\n",
            "|dept|total_age|\n",
            "+----+---------+\n",
            "|  HR|       64|\n",
            "+----+---------+\n",
            "\n"
          ]
        }
      ]
    },
    {
      "cell_type": "code",
      "source": [
        "windowSpec = Window.partitionBy(\"dept\").orderBy(\"age\")\n",
        "\n",
        "df.withColumn(\"rank_in_dept\", F.rank().over(windowSpec)) \\\n",
        "  .withColumn(\"avg_age_dept\", F.avg(\"age\").over(Window.partitionBy(\"dept\"))) \\\n",
        "  .show()\n"
      ],
      "metadata": {
        "colab": {
          "base_uri": "https://localhost:8080/"
        },
        "id": "vGaL0Za0ofqb",
        "outputId": "c03c0e2b-473c-4a46-f501-cca8e1d68bbf"
      },
      "execution_count": 8,
      "outputs": [
        {
          "output_type": "stream",
          "name": "stdout",
          "text": [
            "+-----+---+-----+------------+------------+\n",
            "| name|age| dept|rank_in_dept|avg_age_dept|\n",
            "+-----+---+-----+------------+------------+\n",
            "|David| 29|   HR|           1|        32.0|\n",
            "|Carol| 35|   HR|           2|        32.0|\n",
            "|  Eve| 40|   IT|           1|        40.0|\n",
            "|  Bob| 25|Sales|           1|        27.5|\n",
            "|Alice| 30|Sales|           2|        27.5|\n",
            "+-----+---+-----+------------+------------+\n",
            "\n"
          ]
        }
      ]
    },
    {
      "cell_type": "code",
      "source": [
        "from pyspark.sql import SparkSession\n",
        "from operator import add\n",
        "\n",
        "spark = SparkSession.builder.appName(\"PySparkActionsDemo\").getOrCreate()\n",
        "\n",
        "\n",
        "numbers = spark.sparkContext.parallelize([1, 2, 3, 4, 5, 3, 2])\n",
        "pairs   = spark.sparkContext.parallelize([('a', 1), ('b', 2), ('a', 3)])\n",
        "\n",
        "print(\"reduce →\", numbers.reduce(add))\n",
        "print(\"fold →\", numbers.fold(0, add))\n",
        "print(\"aggregate →\", numbers.aggregate(0,\n",
        "                                        lambda acc, x: acc + x,\n",
        "                                        lambda acc1, acc2: acc1 + acc2))\n",
        "print(\"treeReduce →\", numbers.treeReduce(add))\n",
        "print(\"count →\", numbers.count())\n",
        "print(\"first →\", numbers.first())\n",
        "print(\"take(3) →\", numbers.take(3))\n",
        "print(\"takeOrdered(3) →\", numbers.takeOrdered(3))\n",
        "print(\"takeSample(…,3) →\", numbers.takeSample(False, 3, seed=42))\n",
        "print(\"countByValue →\", numbers.countByValue())\n",
        "print(\"countByKey →\", pairs.countByKey())\n",
        "print(\"min →\", numbers.min())\n",
        "print(\"max →\", numbers.max())\n",
        "print(\"top(2) →\", numbers.top(2))\n",
        "\n",
        "df = spark.createDataFrame([(1, \"Alice\", 25),\n",
        "                            (2, \"Bob\",   30),\n",
        "                            (3, \"Cathy\", 28)],\n",
        "                           [\"id\", \"name\", \"age\"])\n",
        "\n",
        "filtered = df.filter(df.age > 26)  # lazy\n",
        "\n",
        "print(\"\\nDataFrame show():\")\n",
        "filtered.show()\n",
        "\n",
        "print(\"count →\", filtered.count())\n",
        "\n",
        "print(\"first →\", filtered.first())\n",
        "print(\"head(2) →\", filtered.head(2))\n",
        "print(\"take(2) →\", filtered.take(2))\n",
        "\n",
        "collected = filtered.collect()\n",
        "print(\"collect\", collected)\n",
        "\n",
        "spark.stop()\n"
      ],
      "metadata": {
        "colab": {
          "base_uri": "https://localhost:8080/"
        },
        "id": "G_qmo-5Mqw0d",
        "outputId": "403913bb-416d-4144-f0c8-9951a80d76d3"
      },
      "execution_count": 14,
      "outputs": [
        {
          "output_type": "stream",
          "name": "stdout",
          "text": [
            "reduce → 20\n",
            "fold → 20\n",
            "aggregate → 20\n",
            "treeReduce → 20\n",
            "count → 7\n",
            "first → 1\n",
            "take(3) → [1, 2, 3]\n",
            "takeOrdered(3) → [1, 2, 2]\n",
            "takeSample(…,3) → [2, 4, 5]\n",
            "countByValue → defaultdict(<class 'int'>, {1: 1, 2: 2, 3: 2, 4: 1, 5: 1})\n",
            "countByKey → defaultdict(<class 'int'>, {'a': 2, 'b': 1})\n",
            "min → 1\n",
            "max → 5\n",
            "top(2) → [5, 4]\n",
            "\n",
            "DataFrame show():\n",
            "+---+-----+---+\n",
            "| id| name|age|\n",
            "+---+-----+---+\n",
            "|  2|  Bob| 30|\n",
            "|  3|Cathy| 28|\n",
            "+---+-----+---+\n",
            "\n",
            "count → 2\n",
            "first → Row(id=2, name='Bob', age=30)\n",
            "head(2) → [Row(id=2, name='Bob', age=30), Row(id=3, name='Cathy', age=28)]\n",
            "take(2) → [Row(id=2, name='Bob', age=30), Row(id=3, name='Cathy', age=28)]\n",
            "collect [Row(id=2, name='Bob', age=30), Row(id=3, name='Cathy', age=28)]\n"
          ]
        }
      ]
    }
  ]
}