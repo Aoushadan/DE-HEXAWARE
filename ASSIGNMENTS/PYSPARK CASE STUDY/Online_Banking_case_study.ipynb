{
  "nbformat": 4,
  "nbformat_minor": 0,
  "metadata": {
    "colab": {
      "provenance": []
    },
    "kernelspec": {
      "name": "python3",
      "display_name": "Python 3"
    },
    "language_info": {
      "name": "python"
    }
  },
  "cells": [
    {
      "cell_type": "code",
      "execution_count": null,
      "metadata": {
        "id": "O9oouPsk4kTj"
      },
      "outputs": [],
      "source": [
        "import pyspark\n",
        "from pyspark.sql import SparkSession\n",
        "spark = SparkSession.builder.appName(\"Online-Banking\").getOrCreate()"
      ]
    },
    {
      "cell_type": "code",
      "source": [
        "df = spark.read.csv(\"/loan.csv\",header=True, inferSchema=True)\n",
        "df.show()"
      ],
      "metadata": {
        "colab": {
          "base_uri": "https://localhost:8080/"
        },
        "id": "W2m_jStb66Ji",
        "outputId": "df69670a-62ce-4c2b-c24d-74bc632a609b"
      },
      "execution_count": null,
      "outputs": [
        {
          "output_type": "stream",
          "name": "stdout",
          "text": [
            "+-----------+---+------+-------------------+--------------+-----------+------+-----------+-------------+------------------+-----------+-------+------------+----------------+------------------+\n",
            "|Customer_ID|Age|Gender|         Occupation|Marital Status|Family Size|Income|Expenditure|Use Frequency|     Loan Category|Loan Amount|Overdue| Debt Record| Returned Cheque| Dishonour of Bill|\n",
            "+-----------+---+------+-------------------+--------------+-----------+------+-----------+-------------+------------------+-----------+-------+------------+----------------+------------------+\n",
            "|    IB14001| 30|  MALE|       BANK MANAGER|        SINGLE|          4| 50000|      22199|            6|           HOUSING| 10,00,000 |      5|      42,898|               6|                 9|\n",
            "|    IB14008| 44|  MALE|          PROFESSOR|       MARRIED|          6| 51000|      19999|            4|          SHOPPING|     50,000|      3|      33,999|               1|                 5|\n",
            "|    IB14012| 30|FEMALE|            DENTIST|        SINGLE|          3| 58450|      27675|            5|        TRAVELLING|     75,000|      6|      20,876|               3|                 1|\n",
            "|    IB14018| 29|  MALE|            TEACHER|       MARRIED|          5| 45767|      12787|            3|         GOLD LOAN|  6,00,000 |      7|      11,000|               0|                 4|\n",
            "|    IB14022| 34|  MALE|             POLICE|        SINGLE|          4| 43521|      11999|            3|        AUTOMOBILE|  2,00,000 |      2|      43,898|               1|                 2|\n",
            "|    IB14024| 55|FEMALE|              NURSE|       MARRIED|          6| 34999|      19888|            4|        AUTOMOBILE|     47,787|      1|      50,000|               0|                 3|\n",
            "|    IB14025| 39|FEMALE|            TEACHER|       MARRIED|          6| 46619|      18675|            4|           HOUSING| 12,09,867 |      8|      29,999|               6|                 8|\n",
            "|    IB14027| 51|  MALE|     SYSTEM MANAGER|       MARRIED|          3| 49999|      19111|            5|       RESTAURANTS|     60,676|      8|      13,000|               2|                 5|\n",
            "|    IB14029| 24|FEMALE|            TEACHER|        SINGLE|          3| 45008|      17454|            4|        AUTOMOBILE|  3,99,435 |      9|      51,987|               4|                 7|\n",
            "|    IB14031| 37|FEMALE|  SOFTWARE ENGINEER|       MARRIED|          5| 55999|      23999|            5|        AUTOMOBILE|     60,999|      2|           0|               5|                 3|\n",
            "|    IB14032| 24|  MALE|       DATA ANALYST|        SINGLE|          4| 60111|      28999|            6|        AUTOMOBILE|     35,232|      5|      33,333|               1|                 2|\n",
            "|    IB14034| 32|  MALE|   PRODUCT ENGINEER|       MARRIED|          6|  NULL|      29000|            7|COMPUTER SOFTWARES|     80,660|      6|       4,500|               5|                 4|\n",
            "|    IB14037| 54|FEMALE|            TEACHER|       MARRIED|          5| 48099|      19999|            4|       RESTAURANTS|     30,999|      1|      12,000|               7|                 5|\n",
            "|    IB14039| 45|  MALE|    ACCOUNT MANAGER|       MARRIED|          7| 45777|      18452|            4|         GOLD LOAN|  9,87,611 |      7|      39,999|               8|                 1|\n",
            "|    IB14041| 59|FEMALE|ASSISTANT PROFESSOR|       MARRIED|          4| 50999|      22999|            5|  EDUCATIONAL LOAN|  5,99,934 |      3|       9,000|               9|                 9|\n",
            "|    IB14042| 25|FEMALE|             DOCTOR|        SINGLE|          4| 60111|      27111|            5|        TRAVELLING| 12,90,929 |      4|      18,000|               1|                 0|\n",
            "|    IB14045| 31|  MALE|       STORE KEEPER|        SINGLE|          5| 40999|      11999|            3|       BOOK STORES|  1,67,654 |      1|       4,500|               0|                 1|\n",
            "|    IB14049| 49|  MALE|       BANK MANAGER|       MARRIED|          4| 45999|      14500|            4|        TRAVELLING|     79,999|      4|       6,700|               7|                 3|\n",
            "|    IB14050| 56|  MALE|     CIVIL ENGINEER|       MARRIED|          4|  NULL|      13999|            3|           HOUSING| 10,65,577 |      6|      19,999|               4|                 2|\n",
            "|    IB14054| 58|FEMALE|             DOCTOR|       MARRIED|          5| 60000|      25000|            5|           HOUSING|  9,00,000 |      5|      21,000|               9|                 0|\n",
            "+-----------+---+------+-------------------+--------------+-----------+------+-----------+-------------+------------------+-----------+-------+------------+----------------+------------------+\n",
            "only showing top 20 rows\n",
            "\n"
          ]
        }
      ]
    },
    {
      "cell_type": "code",
      "source": [
        "loans_by_category = (\n",
        "    df.groupBy(\"Loan Category\").count()\n",
        "\n",
        ")\n",
        "print(\"Loans per category:\")\n",
        "loans_by_category.show(truncate=False)\n"
      ],
      "metadata": {
        "colab": {
          "base_uri": "https://localhost:8080/"
        },
        "id": "MBITuVoK7TGO",
        "outputId": "07b8de17-f374-46af-c05c-0117ea58c852"
      },
      "execution_count": null,
      "outputs": [
        {
          "output_type": "stream",
          "name": "stdout",
          "text": [
            "Loans per category:\n",
            "+------------------+-----+\n",
            "|Loan Category     |count|\n",
            "+------------------+-----+\n",
            "|HOUSING           |67   |\n",
            "|TRAVELLING        |53   |\n",
            "|BOOK STORES       |7    |\n",
            "|AGRICULTURE       |12   |\n",
            "|GOLD LOAN         |77   |\n",
            "|EDUCATIONAL LOAN  |20   |\n",
            "|AUTOMOBILE        |60   |\n",
            "|BUSINESS          |24   |\n",
            "|COMPUTER SOFTWARES|35   |\n",
            "|DINNING           |14   |\n",
            "|SHOPPING          |35   |\n",
            "|RESTAURANTS       |41   |\n",
            "|ELECTRONICS       |14   |\n",
            "|BUILDING          |7    |\n",
            "|RESTAURANT        |20   |\n",
            "|HOME APPLIANCES   |14   |\n",
            "+------------------+-----+\n",
            "\n"
          ]
        }
      ]
    },
    {
      "cell_type": "code",
      "source": [
        "from pyspark.sql import SparkSession\n",
        "from pyspark.sql.functions import col,regexp_replace\n",
        "from pyspark.sql.types import IntegerType\n",
        "spark = SparkSession.builder.appName(\"Online-Banking\").getOrCreate()\n",
        "df = spark.read.csv(\"/loan.csv\",header=True, inferSchema=True)\n",
        "cleaned_df = df.withColumn(\"cleaned_Loan Amount\",regexp_replace(col(\"Loan Amount\"),\",\",\"\").cast(IntegerType()))\n",
        "count_loans_over_1_lakh = (\n",
        "    cleaned_df.filter(col(\"cleaned_Loan Amount\") > 100000).count()\n",
        ")\n",
        "print(f\"People with loan > ₹100,000: {count_loans_over_1_lakh}\")\n",
        "\n"
      ],
      "metadata": {
        "colab": {
          "base_uri": "https://localhost:8080/"
        },
        "id": "k_KxA7z7FdHP",
        "outputId": "56856864-eded-4835-92a5-c81b47be53d3"
      },
      "execution_count": null,
      "outputs": [
        {
          "output_type": "stream",
          "name": "stdout",
          "text": [
            "People with loan > ₹100,000: 450\n"
          ]
        }
      ]
    },
    {
      "cell_type": "code",
      "source": [
        "count_income_gt_60000 = (\n",
        "    df.filter(col(\"Income\") > 60000)\n",
        "      .count()\n",
        ")\n",
        "print(f\"Income > ₹60,000: {count_income_gt_60000}\")\n"
      ],
      "metadata": {
        "colab": {
          "base_uri": "https://localhost:8080/"
        },
        "id": "k2OhQ4Zj7rkp",
        "outputId": "6b808611-7ed3-45be-81ba-fe2cf27bdc66"
      },
      "execution_count": null,
      "outputs": [
        {
          "output_type": "stream",
          "name": "stdout",
          "text": [
            "Income > ₹60,000: 198\n"
          ]
        }
      ]
    },
    {
      "cell_type": "code",
      "source": [
        "from pyspark.sql import SparkSession\n",
        "from pyspark.sql.functions import col,regexp_replace\n",
        "spark = SparkSession.builder.appName(\"Online-Banking\").getOrCreate()\n",
        "df = spark.read.csv(\"/loan.csv\",header=True, inferSchema=True)\n",
        "count_rc_ge2_income_lt_50k = (\n",
        "    df.filter((col(\" Returned Cheque\") > 2) & (col(\"Income\") < 50000))\n",
        "      .count()\n",
        ")\n",
        "print(f\"Returned cheques ≥2 & Income < ₹50k: {count_rc_ge2_income_lt_50k}\")\n"
      ],
      "metadata": {
        "colab": {
          "base_uri": "https://localhost:8080/"
        },
        "id": "F_zEDHB071CP",
        "outputId": "713d2a2e-ea0a-4f7d-d308-72c59501e441"
      },
      "execution_count": 9,
      "outputs": [
        {
          "output_type": "stream",
          "name": "stdout",
          "text": [
            "Returned cheques ≥2 & Income < ₹50k: 117\n"
          ]
        }
      ]
    },
    {
      "cell_type": "code",
      "source": [
        "count_rc_ge2_single = (\n",
        "    df.filter((col(\" Returned Cheque\") >= 2) & (col(\"Marital Status\") == \"SINGLE\"))\n",
        "      .count()\n",
        ")\n",
        "print(f\"Returned cheques ≥2 & Single: {count_rc_ge2_single}\")\n"
      ],
      "metadata": {
        "colab": {
          "base_uri": "https://localhost:8080/"
        },
        "id": "C2u5teEXeMu7",
        "outputId": "bad58aa2-bd09-46b7-d098-8f682347e517"
      },
      "execution_count": 11,
      "outputs": [
        {
          "output_type": "stream",
          "name": "stdout",
          "text": [
            "Returned cheques ≥2 & Single: 111\n"
          ]
        }
      ]
    },
    {
      "cell_type": "code",
      "source": [
        "count_expense_over_50k = (\n",
        "    df.filter(col(\"Expenditure\") > 50000)\n",
        "      .count()\n",
        ")\n",
        "print(f\"Expenditure > ₹50,000: {count_expense_over_50k}\")\n"
      ],
      "metadata": {
        "colab": {
          "base_uri": "https://localhost:8080/"
        },
        "id": "MY9ns4Gbea9D",
        "outputId": "8d33fbb7-4f85-4ef1-b87a-f5702e7ae784"
      },
      "execution_count": 12,
      "outputs": [
        {
          "output_type": "stream",
          "name": "stdout",
          "text": [
            "Expenditure > ₹50,000: 6\n"
          ]
        }
      ]
    },
    {
      "cell_type": "code",
      "source": [
        "credit_card_eligible_df = df.filter(\n",
        "    (col(\"Income\") >= 25000) &\n",
        "    (col(\"Overdue\") <= 1) &\n",
        "    (col(\" Returned Cheque\") <= 1) &\n",
        "    (col(\" Dishonour of Bill\") <= 1)\n",
        ")\n",
        "\n",
        "count_credit_card_eligible = credit_card_eligible_df.count()\n",
        "print(f\"Eligible for credit cards by policy (example criteria): {count_credit_card_eligible}\")\n"
      ],
      "metadata": {
        "colab": {
          "base_uri": "https://localhost:8080/"
        },
        "id": "gz9dCmg_egYd",
        "outputId": "eee50356-9c02-4ae9-a75d-7803bca4bfad"
      },
      "execution_count": 15,
      "outputs": [
        {
          "output_type": "stream",
          "name": "stdout",
          "text": [
            "Eligible for credit cards by policy (example criteria): 5\n"
          ]
        }
      ]
    },
    {
      "cell_type": "code",
      "source": [
        "from pyspark.sql import SparkSession\n",
        "from pyspark.sql.functions import col,regexp_replace\n",
        "spark = SparkSession.builder.appName(\"Online-Banking\").getOrCreate()\n",
        "df = spark.read.csv(\"/credit card.csv\",header=True, inferSchema=True)\n",
        "df.show()"
      ],
      "metadata": {
        "colab": {
          "base_uri": "https://localhost:8080/"
        },
        "id": "Hx97o8l0fJGa",
        "outputId": "f4f47a33-fdae-48b3-f3cf-8aac1a48c26a"
      },
      "execution_count": 16,
      "outputs": [
        {
          "output_type": "stream",
          "name": "stdout",
          "text": [
            "+---------+----------+---------+-----------+---------+------+---+------+---------+-------------+--------------+---------------+------+\n",
            "|RowNumber|CustomerId|  Surname|CreditScore|Geography|Gender|Age|Tenure|  Balance|NumOfProducts|IsActiveMember|EstimatedSalary|Exited|\n",
            "+---------+----------+---------+-----------+---------+------+---+------+---------+-------------+--------------+---------------+------+\n",
            "|        1|  15634602| Hargrave|        619|   France|Female| 42|     2|      0.0|            1|             1|      101348.88|     1|\n",
            "|        2|  15647311|     Hill|        608|    Spain|Female| 41|     1| 83807.86|            1|             1|      112542.58|     0|\n",
            "|        3|  15619304|     Onio|        502|   France|Female| 42|     8| 159660.8|            3|             0|      113931.57|     1|\n",
            "|        4|  15701354|     Boni|        699|   France|Female| 39|     1|      0.0|            2|             0|       93826.63|     0|\n",
            "|        5|  15737888| Mitchell|        850|    Spain|Female| 43|     2|125510.82|            1|             1|        79084.1|     0|\n",
            "|        6|  15574012|      Chu|        645|    Spain|  Male| 44|     8|113755.78|            2|             0|      149756.71|     1|\n",
            "|        7|  15592531| Bartlett|        822|   France|  Male| 50|     7|      0.0|            2|             1|        10062.8|     0|\n",
            "|        8|  15656148|   Obinna|        376|  Germany|Female| 29|     4|115046.74|            4|             0|      119346.88|     1|\n",
            "|        9|  15792365|       He|        501|   France|  Male| 44|     4|142051.07|            2|             1|        74940.5|     0|\n",
            "|       10|  15592389|       H?|        684|   France|  Male| 27|     2|134603.88|            1|             1|       71725.73|     0|\n",
            "|       11|  15767821|   Bearce|        528|   France|  Male| 31|     6|102016.72|            2|             0|       80181.12|     0|\n",
            "|       12|  15737173|  Andrews|        497|    Spain|  Male| 24|     3|      0.0|            2|             0|       76390.01|     0|\n",
            "|       13|  15632264|      Kay|        476|   France|Female| 34|    10|      0.0|            2|             0|       26260.98|     0|\n",
            "|       14|  15691483|     Chin|        549|   France|Female| 25|     5|      0.0|            2|             0|      190857.79|     0|\n",
            "|       15|  15600882|    Scott|        635|    Spain|Female| 35|     7|      0.0|            2|             1|       65951.65|     0|\n",
            "|       16|  15643966|  Goforth|        616|  Germany|  Male| 45|     3|143129.41|            2|             1|       64327.26|     0|\n",
            "|       17|  15737452|    Romeo|        653|  Germany|  Male| 58|     1|132602.88|            1|             0|        5097.67|     1|\n",
            "|       18|  15788218|Henderson|        549|    Spain|Female| 24|     9|      0.0|            2|             1|       14406.41|     0|\n",
            "|       19|  15661507|  Muldrow|        587|    Spain|  Male| 45|     6|      0.0|            1|             0|      158684.81|     0|\n",
            "|       20|  15568982|      Hao|        726|   France|Female| 24|     6|      0.0|            2|             1|       54724.03|     0|\n",
            "+---------+----------+---------+-----------+---------+------+---+------+---------+-------------+--------------+---------------+------+\n",
            "only showing top 20 rows\n",
            "\n"
          ]
        }
      ]
    },
    {
      "cell_type": "code",
      "source": [
        "credit_card_in_spain = (\n",
        "    df.filter(\n",
        "        (col(\"Geography\") == \"Spain\") &\n",
        "        (col(\"NumOfProducts\") > 1)\n",
        "    )\n",
        "    .count()\n",
        ")\n",
        "\n",
        "\n",
        "eligible_and_active = (\n",
        "    df.filter(\n",
        "        (col(\"NumOfProducts\") > 1) &\n",
        "        (col(\"IsActiveMember\") == 1)\n",
        "    )\n",
        "    .count()\n",
        ")\n",
        "\n",
        "print(f\"Proxy — Credit‑card users in Spain: {credit_card_in_spain}\")\n",
        "print(f\"Proxy — Eligible & active: {eligible_and_active}\")\n",
        ""
      ],
      "metadata": {
        "colab": {
          "base_uri": "https://localhost:8080/"
        },
        "id": "Q4WFTMU1fr-4",
        "outputId": "344b237c-cf76-42e1-915c-3d7f209c2667"
      },
      "execution_count": 18,
      "outputs": [
        {
          "output_type": "stream",
          "name": "stdout",
          "text": [
            "Proxy — Credit‑card users in Spain: 1256\n",
            "Proxy — Eligible & active: 2588\n"
          ]
        }
      ]
    },
    {
      "cell_type": "code",
      "source": [
        "from pyspark.sql import SparkSession\n",
        "from pyspark.sql.functions import col,to_date,sum\n",
        "spark = SparkSession.builder.appName(\"Online-Banking\").getOrCreate()\n",
        "df = spark.read.csv(\"/txn.csv\",header=True, inferSchema=True)\n",
        "df.show()"
      ],
      "metadata": {
        "colab": {
          "base_uri": "https://localhost:8080/"
        },
        "id": "yIC22hzeiO15",
        "outputId": "c5476009-6580-459c-88ac-ce66d1c53dad"
      },
      "execution_count": 34,
      "outputs": [
        {
          "output_type": "stream",
          "name": "stdout",
          "text": [
            "+-------------+--------------------+----------+----------------+-------------+-----------+\n",
            "|   Account No| TRANSACTION DETAILS|VALUE DATE| WITHDRAWAL AMT | DEPOSIT AMT |BALANCE AMT|\n",
            "+-------------+--------------------+----------+----------------+-------------+-----------+\n",
            "|409000611074'|TRF FROM  Indiafo...| 29-Jun-17|            NULL|    1000000.0|  1000000.0|\n",
            "|409000611074'|TRF FROM  Indiafo...|  5-Jul-17|            NULL|    1000000.0|  2000000.0|\n",
            "|409000611074'|FDRL/INTERNAL FUN...| 18-Jul-17|            NULL|     500000.0|  2500000.0|\n",
            "|409000611074'|TRF FRM  Indiafor...|  1-Aug-17|            NULL|    3000000.0|  5500000.0|\n",
            "|409000611074'|FDRL/INTERNAL FUN...| 16-Aug-17|            NULL|     500000.0|  6000000.0|\n",
            "|409000611074'|FDRL/INTERNAL FUN...| 16-Aug-17|            NULL|     500000.0|  6500000.0|\n",
            "|409000611074'|FDRL/INTERNAL FUN...| 16-Aug-17|            NULL|     500000.0|  7000000.0|\n",
            "|409000611074'|FDRL/INTERNAL FUN...| 16-Aug-17|            NULL|     500000.0|  7500000.0|\n",
            "|409000611074'|FDRL/INTERNAL FUN...| 16-Aug-17|            NULL|     500000.0|  8000000.0|\n",
            "|409000611074'|FDRL/INTERNAL FUN...| 16-Aug-17|            NULL|     500000.0|  8500000.0|\n",
            "|409000611074'|INDO GIBL Indiafo...| 16-Aug-17|        133900.0|         NULL|  8366100.0|\n",
            "|409000611074'|INDO GIBL Indiafo...| 16-Aug-17|         18000.0|         NULL|  8348100.0|\n",
            "|409000611074'|INDO GIBL Indiafo...| 16-Aug-17|          5000.0|         NULL|  8343100.0|\n",
            "|409000611074'|INDO GIBL Indiafo...| 16-Aug-17|        195800.0|         NULL|  8147300.0|\n",
            "|409000611074'|INDO GIBL Indiafo...| 16-Aug-17|         81600.0|         NULL|  8065700.0|\n",
            "|409000611074'|INDO GIBL Indiafo...| 16-Aug-17|         41800.0|         NULL|  8023900.0|\n",
            "|409000611074'|INDO GIBL Indiafo...| 16-Aug-17|         98500.0|         NULL|  7925400.0|\n",
            "|409000611074'|INDO GIBL Indiafo...| 16-Aug-17|        143800.0|         NULL|  7781600.0|\n",
            "|409000611074'|INDO GIBL Indiafo...| 16-Aug-17|        331650.0|         NULL|  7449950.0|\n",
            "|409000611074'|INDO GIBL Indiafo...| 16-Aug-17|        129000.0|         NULL|  7320950.0|\n",
            "+-------------+--------------------+----------+----------------+-------------+-----------+\n",
            "only showing top 20 rows\n",
            "\n"
          ]
        }
      ]
    },
    {
      "cell_type": "code",
      "source": [
        "\n",
        "\n",
        "\n",
        "txn = df.withColumn(\"VALUE DATE\", to_date(col(\"VALUE DATE\"), \"dd-MMM-yy\"))\n",
        "\n",
        "\n",
        "from pyspark.sql.functions import max as spark_max, min as spark_min\n",
        "withdrawal_stats =df.agg(\n",
        "    spark_max(\" WITHDRAWAL AMT \").alias(\"MaxWithdrawal\"),\n",
        "    spark_min(\" WITHDRAWAL AMT \").alias(\"MinWithdrawal\")\n",
        ")\n",
        "deposit_stats = txn.agg(\n",
        "    spark_max(\" DEPOSIT AMT \").alias(\"MaxDeposit\"),\n",
        "    spark_min(\" DEPOSIT AMT \").alias(\"MinDeposit\")\n",
        ")\n",
        "\n",
        "\n",
        "balance_per_account = df.groupBy(\"Account No\").agg(\n",
        "    sum(\"BALANCE AMT\").alias(\"TotalBalance\")\n",
        ")\n",
        "\n",
        "\n",
        "txn_per_date = df.groupBy(\"VALUE DATE\").count().orderBy(\"VALUE DATE\")\n",
        "\n",
        "\n",
        "accounts_high_withdraw = df.filter(\n",
        "    col(\" WITHDRAWAL AMT \") > 100000\n",
        ").select(\"Account No\").distinct()\n",
        "\n",
        "withdrawal_stats.show()\n",
        "deposit_stats.show()\n",
        "balance_per_account.show(truncate=False)\n",
        "txn_per_date.show(truncate=False)\n",
        "accounts_high_withdraw.show(truncate=False)"
      ],
      "metadata": {
        "colab": {
          "base_uri": "https://localhost:8080/"
        },
        "id": "X-UsztCzio1Y",
        "outputId": "34cd67d7-cc6f-48c0-e489-2bc5df184575"
      },
      "execution_count": 36,
      "outputs": [
        {
          "output_type": "stream",
          "name": "stdout",
          "text": [
            "+-------------+-------------+\n",
            "|MaxWithdrawal|MinWithdrawal|\n",
            "+-------------+-------------+\n",
            "|4.594475464E8|         0.01|\n",
            "+-------------+-------------+\n",
            "\n",
            "+----------+----------+\n",
            "|MaxDeposit|MinDeposit|\n",
            "+----------+----------+\n",
            "|   5.448E8|      0.01|\n",
            "+----------+----------+\n",
            "\n",
            "+-------------+----------------------+\n",
            "|Account No   |TotalBalance          |\n",
            "+-------------+----------------------+\n",
            "|409000438611'|-2.4948657706833955E12|\n",
            "|1196711'     |-1.60476498101275E13  |\n",
            "|1196428'     |-8.1418498130721E13   |\n",
            "|409000493210'|-3.2758495213209575E12|\n",
            "|409000611074'|1.615533622E9         |\n",
            "|409000425051'|-3.7721184116499877E9 |\n",
            "|409000405747'|-2.4310804706700016E10|\n",
            "|409000362497'|-5.2860004792808E13   |\n",
            "|409000493201'|1.0420831829499985E9  |\n",
            "|409000438620'|-7.122918679513586E12 |\n",
            "+-------------+----------------------+\n",
            "\n",
            "+----------+-----+\n",
            "|VALUE DATE|count|\n",
            "+----------+-----+\n",
            "|1-Apr-17  |1    |\n",
            "|1-Aug-15  |75   |\n",
            "|1-Aug-16  |85   |\n",
            "|1-Aug-17  |65   |\n",
            "|1-Aug-18  |144  |\n",
            "|1-Dec-15  |96   |\n",
            "|1-Dec-16  |106  |\n",
            "|1-Dec-17  |45   |\n",
            "|1-Dec-18  |97   |\n",
            "|1-Feb-16  |97   |\n",
            "|1-Feb-17  |81   |\n",
            "|1-Feb-18  |87   |\n",
            "|1-Feb-19  |79   |\n",
            "|1-Jan-15  |3    |\n",
            "|1-Jan-16  |59   |\n",
            "|1-Jan-18  |53   |\n",
            "|1-Jan-19  |57   |\n",
            "|1-Jul-15  |25   |\n",
            "|1-Jul-16  |111  |\n",
            "|1-Jul-17  |243  |\n",
            "+----------+-----+\n",
            "only showing top 20 rows\n",
            "\n",
            "+-------------+\n",
            "|Account No   |\n",
            "+-------------+\n",
            "|409000438611'|\n",
            "|1196711'     |\n",
            "|1196428'     |\n",
            "|409000493210'|\n",
            "|409000611074'|\n",
            "|409000425051'|\n",
            "|409000405747'|\n",
            "|409000362497'|\n",
            "|409000493201'|\n",
            "|409000438620'|\n",
            "+-------------+\n",
            "\n"
          ]
        }
      ]
    }
  ]
}